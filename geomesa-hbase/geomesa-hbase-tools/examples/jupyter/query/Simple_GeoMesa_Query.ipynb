{
 "cells": [
  {
   "cell_type": "markdown",
   "metadata": {},
   "source": [
    "# Simple GeoMesa Query"
   ]
  },
  {
   "cell_type": "code",
   "execution_count": 1,
   "metadata": {
    "scrolled": true
   },
   "outputs": [],
   "source": [
    "from pyspark.sql import SparkSession\n",
    "import geomesa_pyspark\n",
    "\n",
    "# Resource JARs for PySpark\n",
    "jars=['/opt/geomesa/dist/spark/geomesa-hbase-spark-runtime.jar',\n",
    "      '/usr/share/aws/emr/emrfs/lib/emrfs-hadoop-assembly-2.20.0.jar']\n",
    "   \n",
    "# Spark Configuration Parameters\n",
    "conf = geomesa_pyspark.configure(\n",
    "    jars=jars,\n",
    "    packages=['geomesa_pyspark','pytz'],\n",
    "    spark_home='/usr/lib/spark/').\\\n",
    "    setAppName('MyTestApp') \n",
    "conf.set('spark.jars', ','.join(jars))\n",
    "conf.setAll([\n",
    "    ('spark.executor.memory', '1g'), \n",
    "    ('spark.executor.cores', '2'), \n",
    "    ('spark.worker.instances', '2')])\n",
    "\n",
    "# Initialize Spark Session\n",
    "spark = ( SparkSession\n",
    "    .builder\n",
    "    .config(conf=conf)\n",
    "    .enableHiveSupport()\n",
    "    .getOrCreate()\n",
    ")\n",
    "\n",
    "# GeoMesa Database connection parameters\n",
    "params = {\n",
    "    \"hbase.catalog\": \"catalogSmall\"\n",
    "}\n",
    "feature = \"gdelt\"\n",
    "\n",
    "# Retrieve Dataframe \n",
    "df = ( spark\n",
    "    .read\n",
    "    .format(\"geomesa\")\n",
    "    .options(**params)\n",
    "    .option(\"geomesa.feature\", feature)\n",
    "    .load()\n",
    ")\n",
    "\n",
    "# Create SQL Temp View and print DataFrame Schema\n",
    "df.createOrReplaceTempView(\"data\")\n",
    "df.printSchema()"
   ]
  },
  {
   "cell_type": "code",
   "execution_count": 2,
   "metadata": {
    "scrolled": true
   },
   "outputs": [],
   "source": [
    "spark.sql(\"\"\"\n",
    "select * from data\n",
    "\"\"\").show()"
   ]
  },
  {
   "cell_type": "code",
   "execution_count": 4,
   "metadata": {},
   "outputs": [],
   "source": [
    "spark.sql(\"\"\"\n",
    "select * from data where eventCode = '051'\n",
    "\"\"\").show()"
   ]
  }
 ],
 "metadata": {
  "kernelspec": {
   "display_name": "Python 3",
   "language": "python",
   "name": "python3"
  },
  "language_info": {
   "codemirror_mode": {
    "name": "ipython",
    "version": 3
   },
   "file_extension": ".py",
   "mimetype": "text/x-python",
   "name": "python",
   "nbconvert_exporter": "python",
   "pygments_lexer": "ipython3",
   "version": "3.6.2"
  }
 },
 "nbformat": 4,
 "nbformat_minor": 2
}
