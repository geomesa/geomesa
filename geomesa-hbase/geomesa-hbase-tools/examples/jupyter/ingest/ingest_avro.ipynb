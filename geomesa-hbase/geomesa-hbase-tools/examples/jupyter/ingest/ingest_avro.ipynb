{
 "cells": [
  {
   "cell_type": "markdown",
   "metadata": {},
   "source": [
    "# Avro Ingest Example\n",
    "\n",
    "This notebook contains an example command that can be used to ingest data in the Apache Avro format. Running the command below will ingest sample data that comes bundled with the tools distributions.\n",
    "\n",
    "Please note the ingest command can take a few seconds to start producing output while the JVM spins up."
   ]
  },
  {
   "cell_type": "code",
   "execution_count": null,
   "metadata": {
    "collapsed": true
   },
   "outputs": [],
   "source": [
    "!/opt/geomesa/bin/geomesa-hbase ingest -c catalog -s example-avro -C example-avro-no-header /opt/geomesa/examples/ingest/avro/example_no_header.avro"
   ]
  },
  {
   "cell_type": "markdown",
   "metadata": {},
   "source": [
    "For more information on running the ingest commands you can view the ingest help as follows."
   ]
  },
  {
   "cell_type": "code",
   "execution_count": null,
   "metadata": {},
   "outputs": [],
   "source": [
    "!/opt/geomesa/bin/geomesa-hbase help ingest"
   ]
  }
 ],
 "metadata": {
  "kernelspec": {
   "display_name": "Python 2",
   "language": "python",
   "name": "python2"
  },
  "language_info": {
   "codemirror_mode": {
    "name": "ipython",
    "version": 2
   },
   "file_extension": ".py",
   "mimetype": "text/x-python",
   "name": "python",
   "nbconvert_exporter": "python",
   "pygments_lexer": "ipython2",
   "version": "2.7.6"
  }
 },
 "nbformat": 4,
 "nbformat_minor": 0
}
