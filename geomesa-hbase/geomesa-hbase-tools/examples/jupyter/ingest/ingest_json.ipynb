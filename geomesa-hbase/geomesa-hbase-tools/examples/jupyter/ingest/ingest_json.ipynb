{
 "cells": [
  {
   "cell_type": "markdown",
   "metadata": {},
   "source": [
    "# Avro Ingest Example\n",
    "\n",
    "This notebook contains two example commands that can be used to ingest data in the Apache Avro format. Running the commands below will ingest sample data that comes bundled with the tools distributions.\n",
    "\n",
    "Please note the ingest commands can take a few seconds to start producing output while the JVM spins up. "
   ]
  },
  {
   "cell_type": "code",
   "execution_count": null,
   "metadata": {
    "collapsed": true
   },
   "outputs": [],
   "source": [
    "!/opt/geomesa/bin/geomesa-hbase ingest -c catalog -s example-json -C example-json /opt/geomesa/examples/ingest/json/example.json"
   ]
  },
  {
   "cell_type": "code",
   "execution_count": null,
   "metadata": {},
   "outputs": [],
   "source": [
    "!/opt/geomesa/bin/geomesa-hbase ingest -c catalog2 -s example-json -C example_multi_line.conf /opt/geomesa/examples/ingest/json/example_multi_line.json"
   ]
  },
  {
   "cell_type": "markdown",
   "metadata": {},
   "source": []
  },
  {
   "cell_type": "code",
   "execution_count": null,
   "metadata": {},
   "outputs": [],
   "source": [
    "!/opt/geomesa/bin/geomesa-hbase help ingest"
   ]
  }
 ],
 "metadata": {
  "kernelspec": {
   "display_name": "Python 2",
   "language": "python",
   "name": "python2"
  },
  "language_info": {
   "codemirror_mode": {
    "name": "ipython",
    "version": 2
   },
   "file_extension": ".py",
   "mimetype": "text/x-python",
   "name": "python",
   "nbconvert_exporter": "python",
   "pygments_lexer": "ipython2",
   "version": "2.7.6"
  }
 },
 "nbformat": 4,
 "nbformat_minor": 0
}
