{
 "cells": [
  {
   "cell_type": "markdown",
   "metadata": {},
   "source": [
    "# XML Ingest Example\n",
    "\n",
    "This notebook contains two example commands that can be used to ingest data in the XML format. Running the commands below will ingest sample data that comes bundled with the tools distributions. \n",
    "\n",
    "Please note the ingest commands can take a few seconds to start producing output while the underlying JVM spins up."
   ]
  },
  {
   "cell_type": "code",
   "execution_count": null,
   "metadata": {
    "collapsed": true
   },
   "outputs": [],
   "source": [
    "!/opt/geomesa/bin/geomesa-hbase ingest -c catalog -s example-xml -C example-xml /opt/geomesa/examples/ingest/xml/example.xml"
   ]
  },
  {
   "cell_type": "markdown",
   "metadata": {},
   "source": [
    "For more information on running the ingest commands you can view the ingest help as follows."
   ]
  },
  {
   "cell_type": "code",
   "execution_count": null,
   "metadata": {},
   "outputs": [],
   "source": [
    "!/opt/geomesa/bin/geomesa-hbase help ingest"
   ]
  }
 ],
 "metadata": {
  "kernelspec": {
   "display_name": "Python 2",
   "language": "python",
   "name": "python2"
  },
  "language_info": {
   "codemirror_mode": {
    "name": "ipython",
    "version": 2
   },
   "file_extension": ".py",
   "mimetype": "text/x-python",
   "name": "python",
   "nbconvert_exporter": "python",
   "pygments_lexer": "ipython2",
   "version": "2.7.6"
  }
 },
 "nbformat": 4,
 "nbformat_minor": 0
}
